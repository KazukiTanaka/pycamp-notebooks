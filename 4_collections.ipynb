{
 "cells": [
  {
   "cell_type": "markdown",
   "metadata": {},
   "source": [
    "# 4. Pythonのデータ型（コレクション編）\n",
    "***\n",
    "<a id=\"Collection\"></a>\n",
    "### データ型をまとめるコレクションの紹介\n",
    "***\n",
    "Pythonのデータ型のうち、複数のデータ型をひとまとめにして扱えるコレクションを紹介します。\n",
    "## 4.1. はじめに\n",
    "***\n",
    "本節では次の4つを扱います。リスト（``list``）、タプル（``tuple``）、辞書（``dict``）と集合（``set``）を扱います。\n",
    "<a id=\"Collection-list\"></a>\n",
    "## 4.2. リスト（list）\n",
    "***\n",
    "リストはコレクションの1つです。複数の型のデータをひとまとめにできます。\n",
    "\n",
    "リストを定義するには角括弧（``[ ]``）を使い、含める要素をカンマ（``,``）で区切ります（:numref:`define-list`）。\n",
    "<a id=\"define-list\"></a>\n",
    "#### リスト4.1 リストの定義"
   ]
  },
  {
   "cell_type": "code",
   "execution_count": null,
   "metadata": {},
   "outputs": [],
   "source": [
    "['spam', 'egg', 0.5]"
   ]
  },
  {
   "cell_type": "markdown",
   "metadata": {},
   "source": [
    "リストも文字列と同様に、結合やスライスが使えます（[リスト4.2](#use-list)）。\n",
    "\n",
    "<a id=\"use-list\"></a>\n",
    "#### リスト4.2 リストの基本的な使い方"
   ]
  },
  {
   "cell_type": "code",
   "execution_count": null,
   "metadata": {},
   "outputs": [],
   "source": [
    "['spam', 'ham'] + ['egg']              # リストの結合"
   ]
  },
  {
   "cell_type": "code",
   "execution_count": null,
   "metadata": {},
   "outputs": [],
   "source": [
    "['spam'] * 5                           # リストの繰り返し"
   ]
  },
  {
   "cell_type": "code",
   "execution_count": null,
   "metadata": {},
   "outputs": [],
   "source": [
    "['spam', 'ham', 'egg'][0]              # リストの0番目を取得する"
   ]
  },
  {
   "cell_type": "code",
   "execution_count": null,
   "metadata": {},
   "outputs": [],
   "source": [
    "['spam', 'ham', 'egg'][1:]             # リストのスライス(1番目以降)"
   ]
  },
  {
   "cell_type": "code",
   "execution_count": null,
   "metadata": {},
   "outputs": [],
   "source": [
    "len(['spam', 'ham', 'egg'])            # リストの長さ"
   ]
  },
  {
   "cell_type": "code",
   "execution_count": null,
   "metadata": {},
   "outputs": [],
   "source": [
    "'ham' in ['spam', 'ham', 'egg']        # リストに特定の文字列が含まれるか"
   ]
  },
  {
   "cell_type": "markdown",
   "metadata": {},
   "source": [
    "<a id=\"Collection-for\"></a>"
   ]
  },
  {
   "cell_type": "markdown",
   "metadata": {},
   "source": [
    "### 4.2.1. for文\n",
    "***\n",
    "リストは、 ``for`` 文の繰り返し用変数として使えます（[リスト4.3](#for-list)）。\n",
    "\n",
    "<a id=\"for-list\"></a>\n",
    "#### リスト4.3 for文とリスト"
   ]
  },
  {
   "cell_type": "code",
   "execution_count": null,
   "metadata": {},
   "outputs": [],
   "source": [
    "for animal in ['cat', 'dog', 'snake']:\n",
    "    print(animal)"
   ]
  },
  {
   "cell_type": "markdown",
   "metadata": {},
   "source": [
    "### ヒント\n",
    "[listのfor文での繰り返し動作を確認](http://pythontutor.com/live.html#code=for%20animal%20in%20%5B'cat',%20'dog',%20'snake'%5D%3A%0A%20%20%20%20print%28animal%29&cumulative=false&curInstr=7&heapPrimitives=false&mode=display&origin=opt-live.js&py=3&rawInputLstJSON=%5B%5D&textReferences=false)"
   ]
  },
  {
   "cell_type": "markdown",
   "metadata": {},
   "source": [
    "<a id=\"Collection-append\"></a>\n",
    "\n",
    "### 4.2.2. 要素の追加\n",
    "***\n",
    "リストに要素を追加するには、 ``.append()`` メソッドを使います。\n",
    "``.append()`` メソッドはリストの末尾に要素を追加します（[リスト4.4](#list-append)）。\n",
    "\n",
    "<a id=\"list-append\"></a>\n",
    "#### リスト4.4 リストへの要素追加"
   ]
  },
  {
   "cell_type": "code",
   "execution_count": 1,
   "metadata": {},
   "outputs": [],
   "source": [
    "animals = ['cat', 'dog', 'snake']"
   ]
  },
  {
   "cell_type": "code",
   "execution_count": 2,
   "metadata": {},
   "outputs": [],
   "source": [
    "animals.append('elephant')"
   ]
  },
  {
   "cell_type": "code",
   "execution_count": 3,
   "metadata": {},
   "outputs": [
    {
     "data": {
      "text/plain": [
       "['cat', 'dog', 'snake', 'elephant']"
      ]
     },
     "execution_count": 3,
     "metadata": {},
     "output_type": "execute_result"
    }
   ],
   "source": [
    "animals"
   ]
  },
  {
   "cell_type": "markdown",
   "metadata": {},
   "source": [
    "リストは変更可能なオブジェクトです。\n",
    "``.append()`` メソッドによって、 ``animals`` というリストの内容が変更されます。\n",
    "\n",
    "#### ヒント\n",
    "\n",
    "[listへの要素の追加の動作を確認 ](http://pythontutor.com/live.html#code=animals%20%3D%20%5B'cat',%20'dog',%20'snake'%5D%0Aanimals.append%28'elephant'%29%0Aprint%28animals%29&cumulative=false&curInstr=0&heapPrimitives=false&mode=display&origin=opt-live.js&py=3&rawInputLstJSON=%5B%5D&textReferences=false)\n",
    "\n",
    "<a id=\"comprehension\"></a>\n",
    "### 4.2.3. リスト内包表記\n",
    "***\n",
    "リスト内包表記はリストの定義方法の1つです。\n",
    "比較的複雑なリストの定義を、シンプルに記述できます。\n",
    "\n",
    "``for`` 文の例として ``animals`` リストから各文字列の長さの一覧を作ります（[リスト4.5](#general-for)）。\n",
    "\n",
    "<a id=\"general-for\"></a>\n",
    "#### リスト4.5 一般的なfor文"
   ]
  },
  {
   "cell_type": "code",
   "execution_count": null,
   "metadata": {},
   "outputs": [],
   "source": [
    "ret = []\n",
    "for animal in animals:\n",
    "    ret.append(len(animal))\n",
    "ret"
   ]
  },
  {
   "cell_type": "markdown",
   "metadata": {},
   "source": [
    ":numref:`general-for` をリスト内包表記に置き換えると、 [リスト4.6](#list-comprehension) のようになります。\n",
    "\n",
    "<a id=\"list-comprehension\"></a>\n",
    "#### リスト4.6 リスト内包表記"
   ]
  },
  {
   "cell_type": "code",
   "execution_count": null,
   "metadata": {},
   "outputs": [],
   "source": [
    " [len(animal) for animal in animals]"
   ]
  },
  {
   "cell_type": "markdown",
   "metadata": {},
   "source": [
    "3行で記述していたコードが1行になりました。内包表記を使うと簡潔に記述できることがわかったと思います。\n",
    "最初は見慣れないかもしれませんが、徐々に慣れていくと良いと思います。\n",
    "\n",
    "リストの定義時に、角括弧（``[ ]``）の内部に ``for`` を書きます。\n",
    "``for ＜変数名＞ in`` の部分は通常の ``for`` 文と同じです。\n",
    "\n",
    "``for`` の左側でひとつひとつ取り出した要素（ここでは ``animal``）を使い、リストの各要素を作ります。[リスト4.6](#list-comprehension) の場合、 ``len(animal)`` の結果が各要素になります。\n",
    "\n",
    "リスト内包表記は、条件文や複数回のループ処理も記述できます。\n",
    "複雑にしすぎると、かえって可読性を落としますので、ほどほどに使用することをおすすめします。複雑になりすぎる場合はループ処理で書きましょう。\n",
    "リスト内包表記の仲間に、辞書(後述)を生成する辞書内包表記や、セット(後述)を生成するセット内包表記やジェネレータ式(本チュートリアルでは取り扱わない)などもあります。\n",
    "内包表記はPythonの強力な機能の1つなのでぜひ覚えておくとよいでしょう。\n",
    "\n",
    "他にも役に立つ書き方があるので、Pythonのドキュメントを参考にしてください。\n",
    "\n",
    "* リストの内包表記 https://docs.python.org/ja/3/tutorial/datastructures.html#list-comprehensions\n",
    "\n",
    "<a id=\"substitute\"></a>\n",
    "### 4.2.4. 複数変数への代入\n",
    "***\n",
    "リストのようなシーケンス型から他のデータ型に値を代入する際、複数の変数への代入を一度に行えます（[リスト4.7](#multi-substitute)）。\n",
    "\n",
    "<a id=multi-substitute></a>\n",
    "#### リスト4.7 シーケンス型から複数変数への代入"
   ]
  },
  {
   "cell_type": "code",
   "execution_count": null,
   "metadata": {},
   "outputs": [],
   "source": [
    "dog, cat = ['dog', 'cat']\n",
    "dog"
   ]
  },
  {
   "cell_type": "code",
   "execution_count": null,
   "metadata": {},
   "outputs": [],
   "source": [
    "cat"
   ]
  },
  {
   "cell_type": "markdown",
   "metadata": {},
   "source": [
    "複数の変数への代入は、右辺が文字列や後述するタプルの場合でも可能です。\n",
    "\n",
    "たとえば文字列を ``.split()`` メソッドで分割し、それぞれの変数へ代入すると便利です。\n",
    " HTTPのAuthorizationヘッダーをauth_type、auth_stringに分割する処理は以下のように書けます。\n",
    "\n",
    "#### splitメソッドと各要素個別の代入"
   ]
  },
  {
   "cell_type": "code",
   "execution_count": null,
   "metadata": {},
   "outputs": [],
   "source": [
    "authorization_header = 'Bearer ABCDEF'\n",
    "auth_type, auth_string = authorization_header.split(' ', 1)"
   ]
  },
  {
   "cell_type": "markdown",
   "metadata": {},
   "source": [
    "   ``.split()`` メソッドの第2引数に ``1`` を指定することで、最大1度しか分割しないよう指定しています。\n",
    "   右辺の要素数が左辺の変数の数より多いか、少ない場合エラー (ValueError) になります。\n",
    "\n",
    "<a ip=\"Collection-tuple\"></a>\n",
    "## 4.3. タプル（tuple）\n",
    "***\n",
    "タプルはリストと同じコレクションの1つです。\n",
    "\n",
    "タプルを定義するには括弧（``( )``）を使い、含める要素をカンマ（``,``）で区切りで並べます（[リスト4.7](#define-tuple)）。\n",
    "\n",
    "<a id=\"define-tuple\"></a>\n",
    "#### リスト4.7 タプルの定義"
   ]
  },
  {
   "cell_type": "code",
   "execution_count": null,
   "metadata": {},
   "outputs": [],
   "source": [
    "('spam', 'ham', 4)"
   ]
  },
  {
   "cell_type": "markdown",
   "metadata": {},
   "source": [
    "タプルもリスト、文字列と同様に、結合やスライスが使えます（[リスト4.8](#use-tuple)）。\n",
    "\n",
    "<a id=\"use-tuple\"></a>\n",
    "#### リスト4.8 タプルの基本的な使い方"
   ]
  },
  {
   "cell_type": "code",
   "execution_count": null,
   "metadata": {},
   "outputs": [],
   "source": [
    "('spam', 'ham') + ('egg',)             # タプルの結合"
   ]
  },
  {
   "cell_type": "code",
   "execution_count": null,
   "metadata": {},
   "outputs": [],
   "source": [
    "('spam',) * 5                          # タプルの繰り返し"
   ]
  },
  {
   "cell_type": "code",
   "execution_count": null,
   "metadata": {},
   "outputs": [],
   "source": [
    "('spam', 'ham', 'egg')[0]              # タプルの0番目を取得する"
   ]
  },
  {
   "cell_type": "code",
   "execution_count": null,
   "metadata": {},
   "outputs": [],
   "source": [
    "('spam', 'ham', 'egg')[1:]             # タプルのスライス(1番目以降)"
   ]
  },
  {
   "cell_type": "code",
   "execution_count": null,
   "metadata": {},
   "outputs": [],
   "source": [
    "len(('spam', 'ham', 'egg'))            # タプルの長さ"
   ]
  },
  {
   "cell_type": "code",
   "execution_count": null,
   "metadata": {},
   "outputs": [],
   "source": [
    "'ham' in ('spam', 'ham', 'egg')        # タプルに特定の文字列が含まれるか"
   ]
  },
  {
   "cell_type": "markdown",
   "metadata": {},
   "source": [
    "要素が1つのタプルを定義する際にもカンマが必要な点に注意してください。\n",
    "これは、処理の優先順位を決める括弧と区別するためです（[リスト4.9](#single-tuple)）。\n",
    "\n",
    "<a id=\"single-tuple\"></a>\n",
    "#### リスト4.9 1要素のタプル"
   ]
  },
  {
   "cell_type": "code",
   "execution_count": null,
   "metadata": {},
   "outputs": [],
   "source": [
    "('spam',)"
   ]
  },
  {
   "cell_type": "code",
   "execution_count": null,
   "metadata": {},
   "outputs": [],
   "source": [
    "('spam')"
   ]
  },
  {
   "cell_type": "markdown",
   "metadata": {},
   "source": [
    "また、括弧を省略してタプルを定義できます（[リスト4.10](#omit-parenthesis-tuple)）。\n",
    "\n",
    "<a id=\"omit-parenthesis-tuple\"></a>\n",
    "#### リスト4.10 括弧を省略したタプル\n",
    "'dog', 'cat'"
   ]
  },
  {
   "cell_type": "markdown",
   "metadata": {},
   "source": [
    "<a id=\"immutable\"></a>\n",
    "### 4.3.1.リストとの違いと使いどころ\n",
    "***\n",
    "リストと違いタプルは不変（immutable）な値です。\n",
    "リストの ``.append()`` のような破壊的な操作は存在しません。\n",
    "``.append()`` のような処理を行いたい場合は、タプルの結合により新しいタプルを作るしかありません。\n",
    "\n",
    "タプルは、関数の戻り値や不変としたい設定用の値に使います。\n",
    "\n",
    "関数からタプルを返すと、簡単に複数の値を戻り値として返すことができます。\n",
    "\n",
    "シーケンス（リスト、タプルや文字列）を受け取り、初めの要素と残りの要素に分割する関数を、 [リスト4.11](#return-tuple) に示します。\n",
    "\n",
    "<a id=\"return-tuple\"></a>\n",
    "#### リスト4.11 タプルを返す関数"
   ]
  },
  {
   "cell_type": "code",
   "execution_count": null,
   "metadata": {},
   "outputs": [],
   "source": [
    "def head_splitter(seq):\n",
    "     return seq[0], seq[1:]\n",
    "\n",
    "head, tail = head_splitter(['head', 'body', 'tail'])\n",
    "head"
   ]
  },
  {
   "cell_type": "code",
   "execution_count": null,
   "metadata": {},
   "outputs": [],
   "source": [
    "tail"
   ]
  },
  {
   "cell_type": "markdown",
   "metadata": {},
   "source": [
    "戻り値の順番に意味が必要になるため、要素の多いタプルを返すのは避けましょう（[リスト4.12](#many-return-value)）。\n",
    "\n",
    "<a id=\"many-return-value\"></a>\n",
    "#### リスト4.12 要素数の多いタプルを返す関数"
   ]
  },
  {
   "cell_type": "code",
   "execution_count": null,
   "metadata": {},
   "outputs": [],
   "source": [
    "def bad_implementation():\n",
    "    return 'username', 'user_password', 'user_id', 'user_permission1', 'user_permission2'\n",
    "\n",
    "username, user_password, user_id, user_permission1, user_permission2 = bad_implementation()"
   ]
  },
  {
   "cell_type": "markdown",
   "metadata": {},
   "source": [
    ":ref:`many-return-value` のような場合、辞書（後述）、専用のクラスのインスタンス、名前付きタプルなどで返しましょう\n",
    "（クラスの定義方法、名前付きタプルについては、本チュートリアルでは説明しません）。\n",
    "\n",
    "<a id=\"Collection-dict\"></a>\n",
    "## 4.4. 辞書（dict）\n",
    "***\n",
    "辞書もリスト、タプルと同じコレクションです。\n",
    "\n",
    "辞書はリストとは違い、各要素に順番を持ちません。代わりにキー（key）と、対応する値（value）を持ちます。\n",
    "\n",
    "辞書を定義するには波括弧（``{}`` )で各要素を囲み、コロン（``:``）でキーと値を書きます（[リスト4.13](#guide-dict)）。\n",
    "値と次のキーの間はカンマ（``,``）で区切ります。\n",
    "\n",
    "<a id=\"guide-dict\"></a>\n",
    "#### リスト4.13 辞書"
   ]
  },
  {
   "cell_type": "code",
   "execution_count": null,
   "metadata": {},
   "outputs": [],
   "source": [
    "user_info = {'user_name': 'taro', 'last_name': 'Yamada'}\n",
    "user_info"
   ]
  },
  {
   "cell_type": "markdown",
   "metadata": {},
   "source": [
    ":numref:`guide-dict` の ``user_info`` から ``'user_name'`` の値を取り出す処理は、 [リスト4.14](#get-dict-value) になります。\n",
    "\n",
    "<a id=\"get-dict-value\"></a>\n",
    "#### リスト4.14 辞書からの値の取り出し"
   ]
  },
  {
   "cell_type": "code",
   "execution_count": null,
   "metadata": {},
   "outputs": [],
   "source": [
    "user_info['user_name']"
   ]
  },
  {
   "cell_type": "markdown",
   "metadata": {},
   "source": [
    "既存の辞書に値を設定するには、 ``辞書[＜キー＞]`` に直接代入します（[リスト4.15](#set-dict-value)）。\n",
    "\n",
    "<a id=\"set-dict-value\"></a>\n",
    "#### リスト4.15 辞書への値の設定"
   ]
  },
  {
   "cell_type": "code",
   "execution_count": null,
   "metadata": {},
   "outputs": [],
   "source": [
    "user_info['first_name'] = 'Taro'\n",
    "user_info"
   ]
  },
  {
   "cell_type": "markdown",
   "metadata": {},
   "source": [
    "<a id=\"Collection-in\"></a>\n",
    "### 4.4.1. in\n",
    "***\n",
    "辞書内にキーが存在しているかどうかを調べるには、 ``in`` を使います（[リスト4.16](#dict-in)）。\n",
    "\n",
    "<a id=\"dict-in\"></a>\n",
    "#### リスト4.16 辞書のin"
   ]
  },
  {
   "cell_type": "code",
   "execution_count": null,
   "metadata": {},
   "outputs": [],
   "source": [
    "'user_name' in user_info"
   ]
  },
  {
   "cell_type": "code",
   "execution_count": null,
   "metadata": {},
   "outputs": [],
   "source": [
    "'bio' in user_info"
   ]
  },
  {
   "cell_type": "markdown",
   "metadata": {},
   "source": [
    "<a id=\"Collection-get\"></a>\n",
    "### 4.4.2. .get()メソッド\n",
    "***\n",
    "辞書から値を取得するときに、キーが存在しない場合はエラー(KeyError)になります（[リスト4.17](#dict-keyerror)）。\n",
    "\n",
    "<a id=\"dict-keyerror\"></a>\n",
    "#### リスト4.17 存在しないキーの参照"
   ]
  },
  {
   "cell_type": "code",
   "execution_count": 4,
   "metadata": {},
   "outputs": [
    {
     "ename": "NameError",
     "evalue": "name 'user_info' is not defined",
     "output_type": "error",
     "traceback": [
      "\u001b[0;31m---------------------------------------------------------------------------\u001b[0m",
      "\u001b[0;31mNameError\u001b[0m                                 Traceback (most recent call last)",
      "\u001b[0;32m<ipython-input-4-ee303e3ff704>\u001b[0m in \u001b[0;36m<module>\u001b[0;34m\u001b[0m\n\u001b[0;32m----> 1\u001b[0;31m \u001b[0muser_info\u001b[0m\u001b[0;34m[\u001b[0m\u001b[0;34m'bio'\u001b[0m\u001b[0;34m]\u001b[0m\u001b[0;34m\u001b[0m\u001b[0m\n\u001b[0m",
      "\u001b[0;31mNameError\u001b[0m: name 'user_info' is not defined"
     ]
    }
   ],
   "source": [
    "user_info['bio']"
   ]
  },
  {
   "cell_type": "markdown",
   "metadata": {},
   "source": [
    "``.get()`` メソッドで取得すると、キーが存在しない場合には ``None`` が返されます（[リスト4.18](#get-from-dict)）。\n",
    "\n",
    "<a id=\"get-from-dict\"></a>\n",
    "#### リスト4.18 存在しないキーへのget"
   ]
  },
  {
   "cell_type": "code",
   "execution_count": null,
   "metadata": {},
   "outputs": [],
   "source": [
    "user_info.get('user_name')"
   ]
  },
  {
   "cell_type": "code",
   "execution_count": null,
   "metadata": {},
   "outputs": [],
   "source": [
    "bio = user_info.get('bio')\n",
    "print(bio)"
   ]
  },
  {
   "cell_type": "markdown",
   "metadata": {},
   "source": [
    "``None`` は、Pythonの組み込み定数の1つで、何も値がないことを表します。\n",
    "\n",
    "インタープリタは ``None`` を表示しないので、明示的に ``print`` 関数を使っています。\n",
    "\n",
    "値が存在しないときに ``None`` 以外の値を返したい場合には、 ``.get()`` メソッドの第2引数に返したい値を指定します。\n",
    "``'bio'`` の値が取れない場合に空文字列（``''``）としたい場合は、 [リスト4.19](#get-with-default) のように書きます。\n",
    "\n",
    "<a id=\"get-with-default\"></a>\n",
    "#### リスト4.19 デフォルト値付きのget"
   ]
  },
  {
   "cell_type": "code",
   "execution_count": null,
   "metadata": {},
   "outputs": [],
   "source": [
    "user_info.get('bio', '')"
   ]
  },
  {
   "cell_type": "markdown",
   "metadata": {},
   "source": [
    "<a id=\"Collection-for\"></a>\n",
    "### 4.4.3. for文\n",
    "***\n",
    "辞書を ``for`` 文の繰り返し用変数として使用すると、変数にはキーが入ります([リスト4.20](#dict-for))。\n",
    "\n",
    "<a id=\"dict-for\"></a>\n",
    "#### リスト4.20 辞書を使用したfor文"
   ]
  },
  {
   "cell_type": "code",
   "execution_count": null,
   "metadata": {},
   "outputs": [],
   "source": [
    "user_info = {'user_name': 'taro', 'last_name': 'Yamada'}\n",
    "for key in user_info:\n",
    "    print(key)\n",
    "    print(user_info[key])"
   ]
  },
  {
   "cell_type": "markdown",
   "metadata": {},
   "source": [
    " #### ヒント\n",
    " [辞書のfor文の動作を確認](http://pythontutor.com/live.html#code=user_info%20%3D%20%7B'user_name'%3A%20'taro',%20'last_name'%3A%20'Yamada'%7D%0Afor%20key%20in%20user_info%3A%0A%20%20%20%20print%28key%29%0A%20%20%20%20print%28user_info%5Bkey%5D%29%0A&cumulative=false&curInstr=0&heapPrimitives=false&mode=display&origin=opt-live.js&py=3&rawInputLstJSON=%5B%5D&textReferences=false)\n",
    "\n",
    "### 4.4.4. .keys()メソッド、.values()メソッド、.items()メソッド\n",
    "***\n",
    "すべてのキー、値の要素をリストで取得するには、 ``.keys()`` 、 ``.values()`` 、 ``.items()`` メソッドを使います。\n",
    "\n",
    "* ``.keys()``: すべてのキーを取得\n",
    "* ``.values()``: すべての値を取得\n",
    "* ``.items()``: すべてのキーと値を、要素が2つのタプルで取得\n",
    "\n",
    "たとえば、辞書内のすべてのキーと値を取得するには、 [リスト4.21](#get-all-items) のようにします。\n",
    "\n",
    "<a id=\"get-all-items\"></a>\n",
    "#### リスト4.21 辞書内のすべてのキーと値を取得"
   ]
  },
  {
   "cell_type": "code",
   "execution_count": null,
   "metadata": {},
   "outputs": [],
   "source": [
    "d = {'foo': 'spam', 'bar': 'ham'}\n",
    "d.items()"
   ]
  },
  {
   "cell_type": "markdown",
   "metadata": {},
   "source": [
    "``.items()`` の結果を ``for`` 文に渡せば、辞書内のすべての値を使った繰り返し処理を書けます。\n",
    "\n",
    "``for`` 文の変数名を2つ指定することで、要素が2つのタプルからキーと値をそれぞれの変数に一度で受け取れます（[リスト4.22](#for-with-dict-items)）。\n",
    "\n",
    "<a id=\"for-with-dict-items\"></a>\n",
    "#### リスト4.22 for文で辞書のキーと値を使う"
   ]
  },
  {
   "cell_type": "code",
   "execution_count": null,
   "metadata": {},
   "outputs": [],
   "source": [
    "d = {'foo': 'spam', 'bar': 'ham'}\n",
    "for key, value in d.items():\n",
    "     print(key, value)  "
   ]
  },
  {
   "cell_type": "markdown",
   "metadata": {},
   "source": [
    "各メソッドの戻り値はイテレータブルオブジェクトです。\n",
    "\n",
    "### コラム: イテレータブルオブジェクト\n",
    "***\n",
    "   ``.keys()`` 、 ``.values()`` 、 ``.items()`` の戻り値の型はリストやタプルではなく ``dict_items`` ですが、 ``for`` 文でデータを取り出すことができます。Pythonの ``for`` 文は、「イテレータブルオブジェクト」という連続したデータ構造を表すオブジェクトであれば扱えるため、このような動きになります。\n",
    "\n",
    "<a id=\"Collection-set\"></a>\n",
    "\n",
    "## 4.5. 集合（set）\n",
    "***\n",
    "集合型（set）はコレクション型の1つです。\n",
    "\n",
    "リストやタプルのように値しか持ちませんが、順序も持ちません。\n",
    "\n",
    "1つの集合内には同じ値が1つしか存在できません。そのため、一意な値を管理する際に非常に役立ちます。\n",
    "\n",
    "ただし、辞書のキーと同じように、集合内には不変の値しか持てません。\n",
    "\n",
    "集合は波括弧（``{ }``）で囲んだ中に、要素をカンマ（``,``）で区切って指定して定義します（[リスト4.23](#define-set)）。\n",
    "\n",
    "<a id=\"define-set\"></a>\n",
    "#### リスト4.23 集合の定義"
   ]
  },
  {
   "cell_type": "code",
   "execution_count": null,
   "metadata": {},
   "outputs": [],
   "source": [
    "{'spam', 'ham'}"
   ]
  },
  {
   "cell_type": "code",
   "execution_count": null,
   "metadata": {},
   "outputs": [],
   "source": [
    "{'spam', 'spam', 'spam'}"
   ]
  },
  {
   "cell_type": "markdown",
   "metadata": {},
   "source": [
    "<a id=\"Collection-add\"></a>\n",
    "### 4.5.1. .add()メソッド\n",
    "***\n",
    "集合に要素を追加するには ``.add()`` メソッドを使います。\n",
    "追加したい要素を引数に渡して呼び出します（[リスト4.24](#set-add-method)）。\n",
    "\n",
    "<a id=\"set-add-method\"></a>\n",
    "#### リスト4.24 集合への要素の追加"
   ]
  },
  {
   "cell_type": "code",
   "execution_count": null,
   "metadata": {},
   "outputs": [],
   "source": [
    "unique_users = {'dog', 'cat'}\n",
    "unique_users.add('snake')\n",
    "unique_users"
   ]
  },
  {
   "cell_type": "markdown",
   "metadata": {},
   "source": [
    "集合の要素数も ``len()`` 関数で取得できます（[リスト4.25](#len-with-set)）。\n",
    "\n",
    "<a id=\"len-with-set\"></a>\n",
    "#### リスト4.25 集合によるユニーク数管理"
   ]
  },
  {
   "cell_type": "code",
   "execution_count": null,
   "metadata": {},
   "outputs": [],
   "source": [
    "len(unique_users)"
   ]
  },
  {
   "cell_type": "code",
   "execution_count": null,
   "metadata": {},
   "outputs": [],
   "source": [
    "unique_users.add('snake')\n",
    "unique_users.add('snake')\n",
    "unique_users.add('snake')\n",
    "len(unique_users)"
   ]
  },
  {
   "cell_type": "markdown",
   "metadata": {},
   "source": [
    "[リスト4.25](#len-with-set) で要素が2つの ``unique_users`` という集合を定義し、後に要素を追加しています。\n",
    "ここで ``unique_users`` の要素数は3です。\n",
    "[リスト4.25](#len-with-set) では、集合内にすでに存在する ``'snake'`` という要素を ``.add()`` で3 回追加していますが、 ``len()`` 関数の結果は変わりません。\n",
    "\n",
    "このように、集合では一意な値が適切に管理されていることがわかります。\n",
    "\n",
    "<a id=\"Collection-product\"></a>\n",
    "### 4.5.2. 集合の積と和\n",
    "***\n",
    "2つの集合から集合の積を取り、両方の集合に存在する要素の集合を取得できます。\n",
    "\n",
    "この場合、2つの集合に対してAND（``&``）演算子を使います（[リスト4.26](#product-of-sets)）。\n",
    "\n",
    "<a id=:product-of-sets></a>\n",
    "#### リスト4.26 2集合の積"
   ]
  },
  {
   "cell_type": "code",
   "execution_count": null,
   "metadata": {},
   "outputs": [],
   "source": [
    "allowed_permissions = {'edit', 'view'}\n",
    "requested_permissions = {'view', 'delete'}\n",
    "allowed_permissions & requested_permissions"
   ]
  },
  {
   "cell_type": "markdown",
   "metadata": {},
   "source": [
    "[リスト4.26](#product-of-sets)では、アプリケーションから許可された権限の一覧 ``allowed_permissions`` を使って、ユーザに要求された権限 ``requested_permissions`` のフィルタリングを行う状況を想定しています。\n",
    "結果としてユーザに許可された権限は ``'view'`` のみとなりました。\n",
    "<a id=\"Collection-sum\"></a>\n",
    "集合の和も取得できます。\n",
    "両方の集合を合わせた集合を取得できます。\n",
    "2つの集合に対してOR（``¦``）演算子を使います（[リスト4.27](#sum-of-sets)）。\n",
    "\n",
    "<a id=\"sum-of-sets\"></a>\n",
    "#### リスト4.27 2つの集合の和"
   ]
  },
  {
   "cell_type": "code",
   "execution_count": null,
   "metadata": {},
   "outputs": [],
   "source": [
    "editor = {'edit', 'comment'}\n",
    "reviewer = {'comment', 'approve'}\n",
    "editor | reviewer"
   ]
  },
  {
   "cell_type": "markdown",
   "metadata": {},
   "source": [
    "[リスト4.27](#sum-of-sets) では、``editor`` と ``reviewer`` はロール（役割）を想定しています。\n",
    "この2つのロールを持つユーザは、``'edit'``、``'comment'`` と ``'approve'`` の権限を持つことを算出しました。\n",
    "\n",
    "## 4.6. まとめ\n",
    "***\n",
    "データ型をひとまとめにして扱えるコレクションを紹介しました。\n",
    "実現したいことに合わせたコレクションを選択しましょう。"
   ]
  }
 ],
 "metadata": {
  "kernelspec": {
   "display_name": "Python 3",
   "language": "python",
   "name": "python3"
  },
  "language_info": {
   "codemirror_mode": {
    "name": "ipython",
    "version": 3
   },
   "file_extension": ".py",
   "mimetype": "text/x-python",
   "name": "python",
   "nbconvert_exporter": "python",
   "pygments_lexer": "ipython3",
   "version": "3.6.5"
  }
 },
 "nbformat": 4,
 "nbformat_minor": 2
}
